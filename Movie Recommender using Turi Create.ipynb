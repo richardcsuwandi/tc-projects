{
  "nbformat": 4,
  "nbformat_minor": 0,
  "metadata": {
    "colab": {
      "name": "Movie Recommender using Turi Create.ipynb",
      "provenance": [],
      "collapsed_sections": [],
      "authorship_tag": "ABX9TyNwpNOERVUrEw5e+GLQyJK0",
      "include_colab_link": true
    },
    "kernelspec": {
      "name": "python3",
      "display_name": "Python 3"
    },
    "language_info": {
      "name": "python"
    }
  },
  "cells": [
    {
      "cell_type": "markdown",
      "metadata": {
        "id": "view-in-github",
        "colab_type": "text"
      },
      "source": [
        "<a href=\"https://colab.research.google.com/github/richardcsuwandi/tc-projects/blob/main/Movie%20Recommender%20using%20Turi%20Create.ipynb\" target=\"_parent\"><img src=\"https://colab.research.google.com/assets/colab-badge.svg\" alt=\"Open In Colab\"/></a>"
      ]
    },
    {
      "cell_type": "markdown",
      "metadata": {
        "id": "MFiCVFd1wmU2"
      },
      "source": [
        "# Movie Recommender using Turi Create\n",
        "In this project, we will use Turi Create to build a movie recommender using the MovieLens 100K dataset.  [Turi Create](https://apple.github.io/turicreate/docs/api/index.html) is an open source toolset developed by Apple for creating Core ML models. The goal of this project is to create a movie recommender using the [recommender systems toolkit](https://apple.github.io/turicreate/docs/userguide/recommender/) provided by Turi Create.\n",
        "\n",
        "Note: You can find the complete documentation of Turi Create [here](https://apple.github.io/turicreate/docs/api/index.html)"
      ]
    },
    {
      "cell_type": "markdown",
      "metadata": {
        "id": "fECeekMQyQWM"
      },
      "source": [
        "## Installing Turi Create\n",
        "First, we need to install Turi Create using the following command:\n",
        "\n",
        "`pip install turicreate`\n",
        "\n",
        "Note: You can find the list of supported platforms and system requirements [here](https://github.com/apple/turicreate#supported-platforms)"
      ]
    },
    {
      "cell_type": "code",
      "metadata": {
        "id": "XJ5Ju3j9kuke"
      },
      "source": [
        "# Install turicreate\n",
        "!pip install turicreate"
      ],
      "execution_count": null,
      "outputs": []
    },
    {
      "cell_type": "markdown",
      "metadata": {
        "id": "_HdtJneZyS1u"
      },
      "source": [
        "After Turi Create is successfully installed, we can import Turi Create using:\n",
        "\n",
        "`import turicreate as tc`\n",
        "\n",
        "Note: `tc` here is just an abbreviation for `turicreate`"
      ]
    },
    {
      "cell_type": "code",
      "metadata": {
        "id": "oHfRBFJAlAiL"
      },
      "source": [
        "# Import turicreate\n",
        "import turicreate as tc"
      ],
      "execution_count": 2,
      "outputs": []
    },
    {
      "cell_type": "markdown",
      "metadata": {
        "id": "s6w9QHdkyUuS"
      },
      "source": [
        "## Loading the data\n",
        "\n",
        "Next, we can load the MovieLens 100k dataset into SFrames. The dataset contains 100836 ratings across 9742 movies, which was rated by 610 different users. In particular, we will use the `ratings.csv` and `movies.csv` files\n",
        "\n",
        "Note: The MovieLens dataset can be downloaded [here](https://grouplens.org/datasets/movielens/)"
      ]
    },
    {
      "cell_type": "code",
      "metadata": {
        "colab": {
          "base_uri": "https://localhost:8080/",
          "height": 399
        },
        "id": "QCYj5PS4lDEZ",
        "outputId": "3fcec5f1-2aae-4206-c0ab-176a4ca30702"
      },
      "source": [
        "# Load the ratings and movies data to SFrames\n",
        "ratings = tc.SFrame.read_csv(\"https://raw.githubusercontent.com/richardcsuwandi/datasets/master/ratings.csv\")\n",
        "movies = tc.SFrame.read_csv(\"https://raw.githubusercontent.com/richardcsuwandi/datasets/master/movies.csv\")"
      ],
      "execution_count": 90,
      "outputs": [
        {
          "output_type": "display_data",
          "data": {
            "text/html": [
              "<pre>Finished parsing file https://raw.githubusercontent.com/richardcsuwandi/datasets/master/ratings.csv</pre>"
            ],
            "text/plain": [
              "Finished parsing file https://raw.githubusercontent.com/richardcsuwandi/datasets/master/ratings.csv"
            ]
          },
          "metadata": {
            "tags": []
          }
        },
        {
          "output_type": "display_data",
          "data": {
            "text/html": [
              "<pre>Parsing completed. Parsed 100 lines in 0.086098 secs.</pre>"
            ],
            "text/plain": [
              "Parsing completed. Parsed 100 lines in 0.086098 secs."
            ]
          },
          "metadata": {
            "tags": []
          }
        },
        {
          "output_type": "stream",
          "text": [
            "------------------------------------------------------\n",
            "Inferred types from first 100 line(s) of file as \n",
            "column_type_hints=[int,int,float,int]\n",
            "If parsing fails due to incorrect types, you can correct\n",
            "the inferred type list above and pass it to read_csv in\n",
            "the column_type_hints argument\n",
            "------------------------------------------------------\n"
          ],
          "name": "stdout"
        },
        {
          "output_type": "display_data",
          "data": {
            "text/html": [
              "<pre>Finished parsing file https://raw.githubusercontent.com/richardcsuwandi/datasets/master/ratings.csv</pre>"
            ],
            "text/plain": [
              "Finished parsing file https://raw.githubusercontent.com/richardcsuwandi/datasets/master/ratings.csv"
            ]
          },
          "metadata": {
            "tags": []
          }
        },
        {
          "output_type": "display_data",
          "data": {
            "text/html": [
              "<pre>Parsing completed. Parsed 100836 lines in 0.078147 secs.</pre>"
            ],
            "text/plain": [
              "Parsing completed. Parsed 100836 lines in 0.078147 secs."
            ]
          },
          "metadata": {
            "tags": []
          }
        },
        {
          "output_type": "display_data",
          "data": {
            "text/html": [
              "<pre>Finished parsing file https://raw.githubusercontent.com/richardcsuwandi/datasets/master/movies.csv</pre>"
            ],
            "text/plain": [
              "Finished parsing file https://raw.githubusercontent.com/richardcsuwandi/datasets/master/movies.csv"
            ]
          },
          "metadata": {
            "tags": []
          }
        },
        {
          "output_type": "display_data",
          "data": {
            "text/html": [
              "<pre>Parsing completed. Parsed 100 lines in 0.035811 secs.</pre>"
            ],
            "text/plain": [
              "Parsing completed. Parsed 100 lines in 0.035811 secs."
            ]
          },
          "metadata": {
            "tags": []
          }
        },
        {
          "output_type": "stream",
          "text": [
            "------------------------------------------------------\n",
            "Inferred types from first 100 line(s) of file as \n",
            "column_type_hints=[int,str,str]\n",
            "If parsing fails due to incorrect types, you can correct\n",
            "the inferred type list above and pass it to read_csv in\n",
            "the column_type_hints argument\n",
            "------------------------------------------------------\n"
          ],
          "name": "stdout"
        },
        {
          "output_type": "display_data",
          "data": {
            "text/html": [
              "<pre>Finished parsing file https://raw.githubusercontent.com/richardcsuwandi/datasets/master/movies.csv</pre>"
            ],
            "text/plain": [
              "Finished parsing file https://raw.githubusercontent.com/richardcsuwandi/datasets/master/movies.csv"
            ]
          },
          "metadata": {
            "tags": []
          }
        },
        {
          "output_type": "display_data",
          "data": {
            "text/html": [
              "<pre>Parsing completed. Parsed 9742 lines in 0.029452 secs.</pre>"
            ],
            "text/plain": [
              "Parsing completed. Parsed 9742 lines in 0.029452 secs."
            ]
          },
          "metadata": {
            "tags": []
          }
        }
      ]
    },
    {
      "cell_type": "markdown",
      "metadata": {
        "id": "Abq_DaZjzwkH"
      },
      "source": [
        "After successfully loading the data, we can take a look at the data using `SFrame.head()`:"
      ]
    },
    {
      "cell_type": "code",
      "metadata": {
        "colab": {
          "base_uri": "https://localhost:8080/",
          "height": 249
        },
        "id": "hlutj9y8lSeQ",
        "outputId": "60c33b34-c28d-4449-a79a-bb051dd7cee9"
      },
      "source": [
        "# Display the first 10 rows of the ratings data\n",
        "ratings.head()"
      ],
      "execution_count": 91,
      "outputs": [
        {
          "output_type": "execute_result",
          "data": {
            "text/html": [
              "<div style=\"max-height:1000px;max-width:1500px;overflow:auto;\"><table frame=\"box\" rules=\"cols\">\n",
              "    <tr>\n",
              "        <th style=\"padding-left: 1em; padding-right: 1em; text-align: center\">userId</th>\n",
              "        <th style=\"padding-left: 1em; padding-right: 1em; text-align: center\">movieId</th>\n",
              "        <th style=\"padding-left: 1em; padding-right: 1em; text-align: center\">rating</th>\n",
              "        <th style=\"padding-left: 1em; padding-right: 1em; text-align: center\">timestamp</th>\n",
              "    </tr>\n",
              "    <tr>\n",
              "        <td style=\"padding-left: 1em; padding-right: 1em; text-align: center; vertical-align: top\">1</td>\n",
              "        <td style=\"padding-left: 1em; padding-right: 1em; text-align: center; vertical-align: top\">1</td>\n",
              "        <td style=\"padding-left: 1em; padding-right: 1em; text-align: center; vertical-align: top\">4.0</td>\n",
              "        <td style=\"padding-left: 1em; padding-right: 1em; text-align: center; vertical-align: top\">964982703</td>\n",
              "    </tr>\n",
              "    <tr>\n",
              "        <td style=\"padding-left: 1em; padding-right: 1em; text-align: center; vertical-align: top\">1</td>\n",
              "        <td style=\"padding-left: 1em; padding-right: 1em; text-align: center; vertical-align: top\">3</td>\n",
              "        <td style=\"padding-left: 1em; padding-right: 1em; text-align: center; vertical-align: top\">4.0</td>\n",
              "        <td style=\"padding-left: 1em; padding-right: 1em; text-align: center; vertical-align: top\">964981247</td>\n",
              "    </tr>\n",
              "    <tr>\n",
              "        <td style=\"padding-left: 1em; padding-right: 1em; text-align: center; vertical-align: top\">1</td>\n",
              "        <td style=\"padding-left: 1em; padding-right: 1em; text-align: center; vertical-align: top\">6</td>\n",
              "        <td style=\"padding-left: 1em; padding-right: 1em; text-align: center; vertical-align: top\">4.0</td>\n",
              "        <td style=\"padding-left: 1em; padding-right: 1em; text-align: center; vertical-align: top\">964982224</td>\n",
              "    </tr>\n",
              "    <tr>\n",
              "        <td style=\"padding-left: 1em; padding-right: 1em; text-align: center; vertical-align: top\">1</td>\n",
              "        <td style=\"padding-left: 1em; padding-right: 1em; text-align: center; vertical-align: top\">47</td>\n",
              "        <td style=\"padding-left: 1em; padding-right: 1em; text-align: center; vertical-align: top\">5.0</td>\n",
              "        <td style=\"padding-left: 1em; padding-right: 1em; text-align: center; vertical-align: top\">964983815</td>\n",
              "    </tr>\n",
              "    <tr>\n",
              "        <td style=\"padding-left: 1em; padding-right: 1em; text-align: center; vertical-align: top\">1</td>\n",
              "        <td style=\"padding-left: 1em; padding-right: 1em; text-align: center; vertical-align: top\">50</td>\n",
              "        <td style=\"padding-left: 1em; padding-right: 1em; text-align: center; vertical-align: top\">5.0</td>\n",
              "        <td style=\"padding-left: 1em; padding-right: 1em; text-align: center; vertical-align: top\">964982931</td>\n",
              "    </tr>\n",
              "    <tr>\n",
              "        <td style=\"padding-left: 1em; padding-right: 1em; text-align: center; vertical-align: top\">1</td>\n",
              "        <td style=\"padding-left: 1em; padding-right: 1em; text-align: center; vertical-align: top\">70</td>\n",
              "        <td style=\"padding-left: 1em; padding-right: 1em; text-align: center; vertical-align: top\">3.0</td>\n",
              "        <td style=\"padding-left: 1em; padding-right: 1em; text-align: center; vertical-align: top\">964982400</td>\n",
              "    </tr>\n",
              "    <tr>\n",
              "        <td style=\"padding-left: 1em; padding-right: 1em; text-align: center; vertical-align: top\">1</td>\n",
              "        <td style=\"padding-left: 1em; padding-right: 1em; text-align: center; vertical-align: top\">101</td>\n",
              "        <td style=\"padding-left: 1em; padding-right: 1em; text-align: center; vertical-align: top\">5.0</td>\n",
              "        <td style=\"padding-left: 1em; padding-right: 1em; text-align: center; vertical-align: top\">964980868</td>\n",
              "    </tr>\n",
              "    <tr>\n",
              "        <td style=\"padding-left: 1em; padding-right: 1em; text-align: center; vertical-align: top\">1</td>\n",
              "        <td style=\"padding-left: 1em; padding-right: 1em; text-align: center; vertical-align: top\">110</td>\n",
              "        <td style=\"padding-left: 1em; padding-right: 1em; text-align: center; vertical-align: top\">4.0</td>\n",
              "        <td style=\"padding-left: 1em; padding-right: 1em; text-align: center; vertical-align: top\">964982176</td>\n",
              "    </tr>\n",
              "    <tr>\n",
              "        <td style=\"padding-left: 1em; padding-right: 1em; text-align: center; vertical-align: top\">1</td>\n",
              "        <td style=\"padding-left: 1em; padding-right: 1em; text-align: center; vertical-align: top\">151</td>\n",
              "        <td style=\"padding-left: 1em; padding-right: 1em; text-align: center; vertical-align: top\">5.0</td>\n",
              "        <td style=\"padding-left: 1em; padding-right: 1em; text-align: center; vertical-align: top\">964984041</td>\n",
              "    </tr>\n",
              "    <tr>\n",
              "        <td style=\"padding-left: 1em; padding-right: 1em; text-align: center; vertical-align: top\">1</td>\n",
              "        <td style=\"padding-left: 1em; padding-right: 1em; text-align: center; vertical-align: top\">157</td>\n",
              "        <td style=\"padding-left: 1em; padding-right: 1em; text-align: center; vertical-align: top\">5.0</td>\n",
              "        <td style=\"padding-left: 1em; padding-right: 1em; text-align: center; vertical-align: top\">964984100</td>\n",
              "    </tr>\n",
              "</table>\n",
              "[10 rows x 4 columns]<br/>\n",
              "</div>"
            ],
            "text/plain": [
              "Columns:\n",
              "\tuserId\tint\n",
              "\tmovieId\tint\n",
              "\trating\tfloat\n",
              "\ttimestamp\tint\n",
              "\n",
              "Rows: 10\n",
              "\n",
              "Data:\n",
              "+--------+---------+--------+-----------+\n",
              "| userId | movieId | rating | timestamp |\n",
              "+--------+---------+--------+-----------+\n",
              "|   1    |    1    |  4.0   | 964982703 |\n",
              "|   1    |    3    |  4.0   | 964981247 |\n",
              "|   1    |    6    |  4.0   | 964982224 |\n",
              "|   1    |    47   |  5.0   | 964983815 |\n",
              "|   1    |    50   |  5.0   | 964982931 |\n",
              "|   1    |    70   |  3.0   | 964982400 |\n",
              "|   1    |   101   |  5.0   | 964980868 |\n",
              "|   1    |   110   |  4.0   | 964982176 |\n",
              "|   1    |   151   |  5.0   | 964984041 |\n",
              "|   1    |   157   |  5.0   | 964984100 |\n",
              "+--------+---------+--------+-----------+\n",
              "[10 rows x 4 columns]"
            ]
          },
          "metadata": {
            "tags": []
          },
          "execution_count": 91
        }
      ]
    },
    {
      "cell_type": "code",
      "metadata": {
        "colab": {
          "base_uri": "https://localhost:8080/",
          "height": 301
        },
        "id": "4JzbS8eEoA0W",
        "outputId": "d8b04ade-92f0-49b3-8a4e-7fe4066e89d8"
      },
      "source": [
        "# Display the first 10 rows of the movies data\n",
        "movies.head()"
      ],
      "execution_count": 92,
      "outputs": [
        {
          "output_type": "execute_result",
          "data": {
            "text/html": [
              "<div style=\"max-height:1000px;max-width:1500px;overflow:auto;\"><table frame=\"box\" rules=\"cols\">\n",
              "    <tr>\n",
              "        <th style=\"padding-left: 1em; padding-right: 1em; text-align: center\">movieId</th>\n",
              "        <th style=\"padding-left: 1em; padding-right: 1em; text-align: center\">title</th>\n",
              "        <th style=\"padding-left: 1em; padding-right: 1em; text-align: center\">genres</th>\n",
              "    </tr>\n",
              "    <tr>\n",
              "        <td style=\"padding-left: 1em; padding-right: 1em; text-align: center; vertical-align: top\">1</td>\n",
              "        <td style=\"padding-left: 1em; padding-right: 1em; text-align: center; vertical-align: top\">Toy Story (1995)</td>\n",
              "        <td style=\"padding-left: 1em; padding-right: 1em; text-align: center; vertical-align: top\">Adventure|Animation|Child<br>ren|Comedy|Fantasy ...</td>\n",
              "    </tr>\n",
              "    <tr>\n",
              "        <td style=\"padding-left: 1em; padding-right: 1em; text-align: center; vertical-align: top\">2</td>\n",
              "        <td style=\"padding-left: 1em; padding-right: 1em; text-align: center; vertical-align: top\">Jumanji (1995)</td>\n",
              "        <td style=\"padding-left: 1em; padding-right: 1em; text-align: center; vertical-align: top\">Adventure|Children|Fantas<br>y ...</td>\n",
              "    </tr>\n",
              "    <tr>\n",
              "        <td style=\"padding-left: 1em; padding-right: 1em; text-align: center; vertical-align: top\">3</td>\n",
              "        <td style=\"padding-left: 1em; padding-right: 1em; text-align: center; vertical-align: top\">Grumpier Old Men (1995)</td>\n",
              "        <td style=\"padding-left: 1em; padding-right: 1em; text-align: center; vertical-align: top\">Comedy|Romance</td>\n",
              "    </tr>\n",
              "    <tr>\n",
              "        <td style=\"padding-left: 1em; padding-right: 1em; text-align: center; vertical-align: top\">4</td>\n",
              "        <td style=\"padding-left: 1em; padding-right: 1em; text-align: center; vertical-align: top\">Waiting to Exhale (1995)</td>\n",
              "        <td style=\"padding-left: 1em; padding-right: 1em; text-align: center; vertical-align: top\">Comedy|Drama|Romance</td>\n",
              "    </tr>\n",
              "    <tr>\n",
              "        <td style=\"padding-left: 1em; padding-right: 1em; text-align: center; vertical-align: top\">5</td>\n",
              "        <td style=\"padding-left: 1em; padding-right: 1em; text-align: center; vertical-align: top\">Father of the Bride Part<br>II (1995) ...</td>\n",
              "        <td style=\"padding-left: 1em; padding-right: 1em; text-align: center; vertical-align: top\">Comedy</td>\n",
              "    </tr>\n",
              "    <tr>\n",
              "        <td style=\"padding-left: 1em; padding-right: 1em; text-align: center; vertical-align: top\">6</td>\n",
              "        <td style=\"padding-left: 1em; padding-right: 1em; text-align: center; vertical-align: top\">Heat (1995)</td>\n",
              "        <td style=\"padding-left: 1em; padding-right: 1em; text-align: center; vertical-align: top\">Action|Crime|Thriller</td>\n",
              "    </tr>\n",
              "    <tr>\n",
              "        <td style=\"padding-left: 1em; padding-right: 1em; text-align: center; vertical-align: top\">7</td>\n",
              "        <td style=\"padding-left: 1em; padding-right: 1em; text-align: center; vertical-align: top\">Sabrina (1995)</td>\n",
              "        <td style=\"padding-left: 1em; padding-right: 1em; text-align: center; vertical-align: top\">Comedy|Romance</td>\n",
              "    </tr>\n",
              "    <tr>\n",
              "        <td style=\"padding-left: 1em; padding-right: 1em; text-align: center; vertical-align: top\">8</td>\n",
              "        <td style=\"padding-left: 1em; padding-right: 1em; text-align: center; vertical-align: top\">Tom and Huck (1995)</td>\n",
              "        <td style=\"padding-left: 1em; padding-right: 1em; text-align: center; vertical-align: top\">Adventure|Children</td>\n",
              "    </tr>\n",
              "    <tr>\n",
              "        <td style=\"padding-left: 1em; padding-right: 1em; text-align: center; vertical-align: top\">9</td>\n",
              "        <td style=\"padding-left: 1em; padding-right: 1em; text-align: center; vertical-align: top\">Sudden Death (1995)</td>\n",
              "        <td style=\"padding-left: 1em; padding-right: 1em; text-align: center; vertical-align: top\">Action</td>\n",
              "    </tr>\n",
              "    <tr>\n",
              "        <td style=\"padding-left: 1em; padding-right: 1em; text-align: center; vertical-align: top\">10</td>\n",
              "        <td style=\"padding-left: 1em; padding-right: 1em; text-align: center; vertical-align: top\">GoldenEye (1995)</td>\n",
              "        <td style=\"padding-left: 1em; padding-right: 1em; text-align: center; vertical-align: top\">Action|Adventure|Thriller</td>\n",
              "    </tr>\n",
              "</table>\n",
              "[10 rows x 3 columns]<br/>\n",
              "</div>"
            ],
            "text/plain": [
              "Columns:\n",
              "\tmovieId\tint\n",
              "\ttitle\tstr\n",
              "\tgenres\tstr\n",
              "\n",
              "Rows: 10\n",
              "\n",
              "Data:\n",
              "+---------+-------------------------------+-------------------------------+\n",
              "| movieId |             title             |             genres            |\n",
              "+---------+-------------------------------+-------------------------------+\n",
              "|    1    |        Toy Story (1995)       | Adventure|Animation|Childr... |\n",
              "|    2    |         Jumanji (1995)        |   Adventure|Children|Fantasy  |\n",
              "|    3    |    Grumpier Old Men (1995)    |         Comedy|Romance        |\n",
              "|    4    |    Waiting to Exhale (1995)   |      Comedy|Drama|Romance     |\n",
              "|    5    | Father of the Bride Part I... |             Comedy            |\n",
              "|    6    |          Heat (1995)          |     Action|Crime|Thriller     |\n",
              "|    7    |         Sabrina (1995)        |         Comedy|Romance        |\n",
              "|    8    |      Tom and Huck (1995)      |       Adventure|Children      |\n",
              "|    9    |      Sudden Death (1995)      |             Action            |\n",
              "|    10   |        GoldenEye (1995)       |   Action|Adventure|Thriller   |\n",
              "+---------+-------------------------------+-------------------------------+\n",
              "[10 rows x 3 columns]"
            ]
          },
          "metadata": {
            "tags": []
          },
          "execution_count": 92
        }
      ]
    },
    {
      "cell_type": "markdown",
      "metadata": {
        "id": "BDyBoOH1zHlp"
      },
      "source": [
        "## Preprocessing the data\n",
        "As we can see above, the ratings SFrame contains the `rating` for each corresponding `userId` and `movieId`. On the other hand, the movies SFrame contains information like the `title` and `genres` for each `movieId`. Let's merge these two SFrames together:"
      ]
    },
    {
      "cell_type": "code",
      "metadata": {
        "colab": {
          "base_uri": "https://localhost:8080/",
          "height": 336
        },
        "id": "sPCG727d4PU7",
        "outputId": "014a8cc1-4912-4ef2-80fa-09b681e522c6"
      },
      "source": [
        "# Merge the ratings and movies SFrames\n",
        "full_data = ratings.join(movies, on=\"movieId\", how=\"left\")\n",
        "\n",
        "full_data.head()"
      ],
      "execution_count": 106,
      "outputs": [
        {
          "output_type": "execute_result",
          "data": {
            "text/html": [
              "<div style=\"max-height:1000px;max-width:1500px;overflow:auto;\"><table frame=\"box\" rules=\"cols\">\n",
              "    <tr>\n",
              "        <th style=\"padding-left: 1em; padding-right: 1em; text-align: center\">userId</th>\n",
              "        <th style=\"padding-left: 1em; padding-right: 1em; text-align: center\">movieId</th>\n",
              "        <th style=\"padding-left: 1em; padding-right: 1em; text-align: center\">rating</th>\n",
              "        <th style=\"padding-left: 1em; padding-right: 1em; text-align: center\">timestamp</th>\n",
              "        <th style=\"padding-left: 1em; padding-right: 1em; text-align: center\">title</th>\n",
              "        <th style=\"padding-left: 1em; padding-right: 1em; text-align: center\">genres</th>\n",
              "    </tr>\n",
              "    <tr>\n",
              "        <td style=\"padding-left: 1em; padding-right: 1em; text-align: center; vertical-align: top\">1</td>\n",
              "        <td style=\"padding-left: 1em; padding-right: 1em; text-align: center; vertical-align: top\">1</td>\n",
              "        <td style=\"padding-left: 1em; padding-right: 1em; text-align: center; vertical-align: top\">4.0</td>\n",
              "        <td style=\"padding-left: 1em; padding-right: 1em; text-align: center; vertical-align: top\">964982703</td>\n",
              "        <td style=\"padding-left: 1em; padding-right: 1em; text-align: center; vertical-align: top\">Toy Story (1995)</td>\n",
              "        <td style=\"padding-left: 1em; padding-right: 1em; text-align: center; vertical-align: top\">Adventure|Animation|Child<br>ren|Comedy|Fantasy ...</td>\n",
              "    </tr>\n",
              "    <tr>\n",
              "        <td style=\"padding-left: 1em; padding-right: 1em; text-align: center; vertical-align: top\">1</td>\n",
              "        <td style=\"padding-left: 1em; padding-right: 1em; text-align: center; vertical-align: top\">3</td>\n",
              "        <td style=\"padding-left: 1em; padding-right: 1em; text-align: center; vertical-align: top\">4.0</td>\n",
              "        <td style=\"padding-left: 1em; padding-right: 1em; text-align: center; vertical-align: top\">964981247</td>\n",
              "        <td style=\"padding-left: 1em; padding-right: 1em; text-align: center; vertical-align: top\">Grumpier Old Men (1995)</td>\n",
              "        <td style=\"padding-left: 1em; padding-right: 1em; text-align: center; vertical-align: top\">Comedy|Romance</td>\n",
              "    </tr>\n",
              "    <tr>\n",
              "        <td style=\"padding-left: 1em; padding-right: 1em; text-align: center; vertical-align: top\">1</td>\n",
              "        <td style=\"padding-left: 1em; padding-right: 1em; text-align: center; vertical-align: top\">6</td>\n",
              "        <td style=\"padding-left: 1em; padding-right: 1em; text-align: center; vertical-align: top\">4.0</td>\n",
              "        <td style=\"padding-left: 1em; padding-right: 1em; text-align: center; vertical-align: top\">964982224</td>\n",
              "        <td style=\"padding-left: 1em; padding-right: 1em; text-align: center; vertical-align: top\">Heat (1995)</td>\n",
              "        <td style=\"padding-left: 1em; padding-right: 1em; text-align: center; vertical-align: top\">Action|Crime|Thriller</td>\n",
              "    </tr>\n",
              "    <tr>\n",
              "        <td style=\"padding-left: 1em; padding-right: 1em; text-align: center; vertical-align: top\">1</td>\n",
              "        <td style=\"padding-left: 1em; padding-right: 1em; text-align: center; vertical-align: top\">47</td>\n",
              "        <td style=\"padding-left: 1em; padding-right: 1em; text-align: center; vertical-align: top\">5.0</td>\n",
              "        <td style=\"padding-left: 1em; padding-right: 1em; text-align: center; vertical-align: top\">964983815</td>\n",
              "        <td style=\"padding-left: 1em; padding-right: 1em; text-align: center; vertical-align: top\">Seven (a.k.a. Se7en)<br>(1995) ...</td>\n",
              "        <td style=\"padding-left: 1em; padding-right: 1em; text-align: center; vertical-align: top\">Mystery|Thriller</td>\n",
              "    </tr>\n",
              "    <tr>\n",
              "        <td style=\"padding-left: 1em; padding-right: 1em; text-align: center; vertical-align: top\">1</td>\n",
              "        <td style=\"padding-left: 1em; padding-right: 1em; text-align: center; vertical-align: top\">50</td>\n",
              "        <td style=\"padding-left: 1em; padding-right: 1em; text-align: center; vertical-align: top\">5.0</td>\n",
              "        <td style=\"padding-left: 1em; padding-right: 1em; text-align: center; vertical-align: top\">964982931</td>\n",
              "        <td style=\"padding-left: 1em; padding-right: 1em; text-align: center; vertical-align: top\">Usual Suspects, The<br>(1995) ...</td>\n",
              "        <td style=\"padding-left: 1em; padding-right: 1em; text-align: center; vertical-align: top\">Crime|Mystery|Thriller</td>\n",
              "    </tr>\n",
              "    <tr>\n",
              "        <td style=\"padding-left: 1em; padding-right: 1em; text-align: center; vertical-align: top\">1</td>\n",
              "        <td style=\"padding-left: 1em; padding-right: 1em; text-align: center; vertical-align: top\">70</td>\n",
              "        <td style=\"padding-left: 1em; padding-right: 1em; text-align: center; vertical-align: top\">3.0</td>\n",
              "        <td style=\"padding-left: 1em; padding-right: 1em; text-align: center; vertical-align: top\">964982400</td>\n",
              "        <td style=\"padding-left: 1em; padding-right: 1em; text-align: center; vertical-align: top\">From Dusk Till Dawn<br>(1996) ...</td>\n",
              "        <td style=\"padding-left: 1em; padding-right: 1em; text-align: center; vertical-align: top\">Action|Comedy|Horror|Thri<br>ller ...</td>\n",
              "    </tr>\n",
              "    <tr>\n",
              "        <td style=\"padding-left: 1em; padding-right: 1em; text-align: center; vertical-align: top\">1</td>\n",
              "        <td style=\"padding-left: 1em; padding-right: 1em; text-align: center; vertical-align: top\">101</td>\n",
              "        <td style=\"padding-left: 1em; padding-right: 1em; text-align: center; vertical-align: top\">5.0</td>\n",
              "        <td style=\"padding-left: 1em; padding-right: 1em; text-align: center; vertical-align: top\">964980868</td>\n",
              "        <td style=\"padding-left: 1em; padding-right: 1em; text-align: center; vertical-align: top\">Bottle Rocket (1996)</td>\n",
              "        <td style=\"padding-left: 1em; padding-right: 1em; text-align: center; vertical-align: top\">Adventure|Comedy|Crime|Ro<br>mance ...</td>\n",
              "    </tr>\n",
              "    <tr>\n",
              "        <td style=\"padding-left: 1em; padding-right: 1em; text-align: center; vertical-align: top\">1</td>\n",
              "        <td style=\"padding-left: 1em; padding-right: 1em; text-align: center; vertical-align: top\">110</td>\n",
              "        <td style=\"padding-left: 1em; padding-right: 1em; text-align: center; vertical-align: top\">4.0</td>\n",
              "        <td style=\"padding-left: 1em; padding-right: 1em; text-align: center; vertical-align: top\">964982176</td>\n",
              "        <td style=\"padding-left: 1em; padding-right: 1em; text-align: center; vertical-align: top\">Braveheart (1995)</td>\n",
              "        <td style=\"padding-left: 1em; padding-right: 1em; text-align: center; vertical-align: top\">Action|Drama|War</td>\n",
              "    </tr>\n",
              "    <tr>\n",
              "        <td style=\"padding-left: 1em; padding-right: 1em; text-align: center; vertical-align: top\">1</td>\n",
              "        <td style=\"padding-left: 1em; padding-right: 1em; text-align: center; vertical-align: top\">151</td>\n",
              "        <td style=\"padding-left: 1em; padding-right: 1em; text-align: center; vertical-align: top\">5.0</td>\n",
              "        <td style=\"padding-left: 1em; padding-right: 1em; text-align: center; vertical-align: top\">964984041</td>\n",
              "        <td style=\"padding-left: 1em; padding-right: 1em; text-align: center; vertical-align: top\">Rob Roy (1995)</td>\n",
              "        <td style=\"padding-left: 1em; padding-right: 1em; text-align: center; vertical-align: top\">Action|Drama|Romance|War</td>\n",
              "    </tr>\n",
              "    <tr>\n",
              "        <td style=\"padding-left: 1em; padding-right: 1em; text-align: center; vertical-align: top\">1</td>\n",
              "        <td style=\"padding-left: 1em; padding-right: 1em; text-align: center; vertical-align: top\">157</td>\n",
              "        <td style=\"padding-left: 1em; padding-right: 1em; text-align: center; vertical-align: top\">5.0</td>\n",
              "        <td style=\"padding-left: 1em; padding-right: 1em; text-align: center; vertical-align: top\">964984100</td>\n",
              "        <td style=\"padding-left: 1em; padding-right: 1em; text-align: center; vertical-align: top\">Canadian Bacon (1995)</td>\n",
              "        <td style=\"padding-left: 1em; padding-right: 1em; text-align: center; vertical-align: top\">Comedy|War</td>\n",
              "    </tr>\n",
              "</table>\n",
              "[10 rows x 6 columns]<br/>\n",
              "</div>"
            ],
            "text/plain": [
              "Columns:\n",
              "\tuserId\tint\n",
              "\tmovieId\tint\n",
              "\trating\tfloat\n",
              "\ttimestamp\tint\n",
              "\ttitle\tstr\n",
              "\tgenres\tstr\n",
              "\n",
              "Rows: 10\n",
              "\n",
              "Data:\n",
              "+--------+---------+--------+-----------+-----------------------------+\n",
              "| userId | movieId | rating | timestamp |            title            |\n",
              "+--------+---------+--------+-----------+-----------------------------+\n",
              "|   1    |    1    |  4.0   | 964982703 |       Toy Story (1995)      |\n",
              "|   1    |    3    |  4.0   | 964981247 |   Grumpier Old Men (1995)   |\n",
              "|   1    |    6    |  4.0   | 964982224 |         Heat (1995)         |\n",
              "|   1    |    47   |  5.0   | 964983815 | Seven (a.k.a. Se7en) (1995) |\n",
              "|   1    |    50   |  5.0   | 964982931 |  Usual Suspects, The (1995) |\n",
              "|   1    |    70   |  3.0   | 964982400 |  From Dusk Till Dawn (1996) |\n",
              "|   1    |   101   |  5.0   | 964980868 |     Bottle Rocket (1996)    |\n",
              "|   1    |   110   |  4.0   | 964982176 |      Braveheart (1995)      |\n",
              "|   1    |   151   |  5.0   | 964984041 |        Rob Roy (1995)       |\n",
              "|   1    |   157   |  5.0   | 964984100 |    Canadian Bacon (1995)    |\n",
              "+--------+---------+--------+-----------+-----------------------------+\n",
              "+--------------------------------+\n",
              "|             genres             |\n",
              "+--------------------------------+\n",
              "| Adventure|Animation|Childr...  |\n",
              "|         Comedy|Romance         |\n",
              "|     Action|Crime|Thriller      |\n",
              "|        Mystery|Thriller        |\n",
              "|     Crime|Mystery|Thriller     |\n",
              "| Action|Comedy|Horror|Thriller  |\n",
              "| Adventure|Comedy|Crime|Romance |\n",
              "|        Action|Drama|War        |\n",
              "|    Action|Drama|Romance|War    |\n",
              "|           Comedy|War           |\n",
              "+--------------------------------+\n",
              "[10 rows x 6 columns]"
            ]
          },
          "metadata": {
            "tags": []
          },
          "execution_count": 106
        }
      ]
    },
    {
      "cell_type": "markdown",
      "metadata": {
        "id": "DUdJe61B5WaD"
      },
      "source": [
        "After merging the SFrames, we need to split the data into training and validation sets using `tc.recommender.util.random_split_by_user`"
      ]
    },
    {
      "cell_type": "code",
      "metadata": {
        "id": "95IN-s3rlVKh"
      },
      "source": [
        "train_data, val_data = tc.recommender.util.random_split_by_user(full_data, \n",
        "                                                                user_id=\"userId\",\n",
        "                                                                item_id=\"movieId\",\n",
        "                                                                max_num_users=100,\n",
        "                                                                item_test_proportion=0.2)"
      ],
      "execution_count": 95,
      "outputs": []
    },
    {
      "cell_type": "markdown",
      "metadata": {
        "id": "34EL-vsU62pZ"
      },
      "source": [
        "Here, the validation dataset is generated by first choosing `max_num_users` (set to 100) out of the\n",
        "total number of users in dataset. Then, for each of the chosen users, a portion of the user's items (determined by `item_test_proportion`, which is set to 0.2) is randomly chosen to be included in the validation set. We can check the resulting dimensions of the training and validation sets as follows:"
      ]
    },
    {
      "cell_type": "code",
      "metadata": {
        "colab": {
          "base_uri": "https://localhost:8080/"
        },
        "id": "NGHT0ZI7lsbJ",
        "outputId": "3c933a28-8ba8-47ff-f581-264836ff90bc"
      },
      "source": [
        "# Check the dimensions of the training and validation sets\n",
        "train_data.shape, val_data.shape"
      ],
      "execution_count": 96,
      "outputs": [
        {
          "output_type": "execute_result",
          "data": {
            "text/plain": [
              "((97976, 5), (2860, 5))"
            ]
          },
          "metadata": {
            "tags": []
          },
          "execution_count": 96
        }
      ]
    },
    {
      "cell_type": "markdown",
      "metadata": {
        "id": "YXSU6SkZ7UPb"
      },
      "source": [
        "## Building the model \n",
        "Now, we are ready to build our movie recommender model. The easiest way to choose a model is to let Turi Create choose your model for you. This is done by simply using the default `tc.recommender.create` function, which chooses the model based on the data provided to it"
      ]
    },
    {
      "cell_type": "code",
      "metadata": {
        "colab": {
          "base_uri": "https://localhost:8080/",
          "height": 849
        },
        "id": "pQu8F8BHlvEY",
        "outputId": "ca37dcbc-d6b9-4386-872d-4a27d5287d26"
      },
      "source": [
        "# Build the model\n",
        "model = tc.recommender.create(train_data,\n",
        "                              user_id=\"userId\",\n",
        "                              item_id=\"title\",\n",
        "                              target=\"rating\")"
      ],
      "execution_count": 103,
      "outputs": [
        {
          "output_type": "display_data",
          "data": {
            "text/html": [
              "<pre>Preparing data set.</pre>"
            ],
            "text/plain": [
              "Preparing data set."
            ]
          },
          "metadata": {
            "tags": []
          }
        },
        {
          "output_type": "display_data",
          "data": {
            "text/html": [
              "<pre>    Data has 97976 observations with 610 users and 9660 items.</pre>"
            ],
            "text/plain": [
              "    Data has 97976 observations with 610 users and 9660 items."
            ]
          },
          "metadata": {
            "tags": []
          }
        },
        {
          "output_type": "display_data",
          "data": {
            "text/html": [
              "<pre>    Data prepared in: 0.237186s</pre>"
            ],
            "text/plain": [
              "    Data prepared in: 0.237186s"
            ]
          },
          "metadata": {
            "tags": []
          }
        },
        {
          "output_type": "display_data",
          "data": {
            "text/html": [
              "<pre>Training ranking_factorization_recommender for recommendations.</pre>"
            ],
            "text/plain": [
              "Training ranking_factorization_recommender for recommendations."
            ]
          },
          "metadata": {
            "tags": []
          }
        },
        {
          "output_type": "display_data",
          "data": {
            "text/html": [
              "<pre>+--------------------------------+--------------------------------------------------+----------+</pre>"
            ],
            "text/plain": [
              "+--------------------------------+--------------------------------------------------+----------+"
            ]
          },
          "metadata": {
            "tags": []
          }
        },
        {
          "output_type": "display_data",
          "data": {
            "text/html": [
              "<pre>| Parameter                      | Description                                      | Value    |</pre>"
            ],
            "text/plain": [
              "| Parameter                      | Description                                      | Value    |"
            ]
          },
          "metadata": {
            "tags": []
          }
        },
        {
          "output_type": "display_data",
          "data": {
            "text/html": [
              "<pre>+--------------------------------+--------------------------------------------------+----------+</pre>"
            ],
            "text/plain": [
              "+--------------------------------+--------------------------------------------------+----------+"
            ]
          },
          "metadata": {
            "tags": []
          }
        },
        {
          "output_type": "display_data",
          "data": {
            "text/html": [
              "<pre>| num_factors                    | Factor Dimension                                 | 32       |</pre>"
            ],
            "text/plain": [
              "| num_factors                    | Factor Dimension                                 | 32       |"
            ]
          },
          "metadata": {
            "tags": []
          }
        },
        {
          "output_type": "display_data",
          "data": {
            "text/html": [
              "<pre>| regularization                 | L2 Regularization on Factors                     | 1e-09    |</pre>"
            ],
            "text/plain": [
              "| regularization                 | L2 Regularization on Factors                     | 1e-09    |"
            ]
          },
          "metadata": {
            "tags": []
          }
        },
        {
          "output_type": "display_data",
          "data": {
            "text/html": [
              "<pre>| solver                         | Solver used for training                         | adagrad  |</pre>"
            ],
            "text/plain": [
              "| solver                         | Solver used for training                         | adagrad  |"
            ]
          },
          "metadata": {
            "tags": []
          }
        },
        {
          "output_type": "display_data",
          "data": {
            "text/html": [
              "<pre>| linear_regularization          | L2 Regularization on Linear Coefficients         | 1e-09    |</pre>"
            ],
            "text/plain": [
              "| linear_regularization          | L2 Regularization on Linear Coefficients         | 1e-09    |"
            ]
          },
          "metadata": {
            "tags": []
          }
        },
        {
          "output_type": "display_data",
          "data": {
            "text/html": [
              "<pre>| ranking_regularization         | Rank-based Regularization Weight                 | 0.25     |</pre>"
            ],
            "text/plain": [
              "| ranking_regularization         | Rank-based Regularization Weight                 | 0.25     |"
            ]
          },
          "metadata": {
            "tags": []
          }
        },
        {
          "output_type": "display_data",
          "data": {
            "text/html": [
              "<pre>| max_iterations                 | Maximum Number of Iterations                     | 25       |</pre>"
            ],
            "text/plain": [
              "| max_iterations                 | Maximum Number of Iterations                     | 25       |"
            ]
          },
          "metadata": {
            "tags": []
          }
        },
        {
          "output_type": "display_data",
          "data": {
            "text/html": [
              "<pre>+--------------------------------+--------------------------------------------------+----------+</pre>"
            ],
            "text/plain": [
              "+--------------------------------+--------------------------------------------------+----------+"
            ]
          },
          "metadata": {
            "tags": []
          }
        },
        {
          "output_type": "display_data",
          "data": {
            "text/html": [
              "<pre>  Optimizing model using SGD; tuning step size.</pre>"
            ],
            "text/plain": [
              "  Optimizing model using SGD; tuning step size."
            ]
          },
          "metadata": {
            "tags": []
          }
        },
        {
          "output_type": "display_data",
          "data": {
            "text/html": [
              "<pre>  Using 12247 / 97976 points for tuning the step size.</pre>"
            ],
            "text/plain": [
              "  Using 12247 / 97976 points for tuning the step size."
            ]
          },
          "metadata": {
            "tags": []
          }
        },
        {
          "output_type": "display_data",
          "data": {
            "text/html": [
              "<pre>+---------+-------------------+------------------------------------------+</pre>"
            ],
            "text/plain": [
              "+---------+-------------------+------------------------------------------+"
            ]
          },
          "metadata": {
            "tags": []
          }
        },
        {
          "output_type": "display_data",
          "data": {
            "text/html": [
              "<pre>| Attempt | Initial Step Size | Estimated Objective Value                |</pre>"
            ],
            "text/plain": [
              "| Attempt | Initial Step Size | Estimated Objective Value                |"
            ]
          },
          "metadata": {
            "tags": []
          }
        },
        {
          "output_type": "display_data",
          "data": {
            "text/html": [
              "<pre>+---------+-------------------+------------------------------------------+</pre>"
            ],
            "text/plain": [
              "+---------+-------------------+------------------------------------------+"
            ]
          },
          "metadata": {
            "tags": []
          }
        },
        {
          "output_type": "display_data",
          "data": {
            "text/html": [
              "<pre>| 0       | 12.5              | Not Viable                               |</pre>"
            ],
            "text/plain": [
              "| 0       | 12.5              | Not Viable                               |"
            ]
          },
          "metadata": {
            "tags": []
          }
        },
        {
          "output_type": "display_data",
          "data": {
            "text/html": [
              "<pre>| 1       | 3.125             | Not Viable                               |</pre>"
            ],
            "text/plain": [
              "| 1       | 3.125             | Not Viable                               |"
            ]
          },
          "metadata": {
            "tags": []
          }
        },
        {
          "output_type": "display_data",
          "data": {
            "text/html": [
              "<pre>| 2       | 0.78125           | Not Viable                               |</pre>"
            ],
            "text/plain": [
              "| 2       | 0.78125           | Not Viable                               |"
            ]
          },
          "metadata": {
            "tags": []
          }
        },
        {
          "output_type": "display_data",
          "data": {
            "text/html": [
              "<pre>| 3       | 0.195312          | 0.613008                                 |</pre>"
            ],
            "text/plain": [
              "| 3       | 0.195312          | 0.613008                                 |"
            ]
          },
          "metadata": {
            "tags": []
          }
        },
        {
          "output_type": "display_data",
          "data": {
            "text/html": [
              "<pre>| 4       | 0.0976562         | 0.35785                                  |</pre>"
            ],
            "text/plain": [
              "| 4       | 0.0976562         | 0.35785                                  |"
            ]
          },
          "metadata": {
            "tags": []
          }
        },
        {
          "output_type": "display_data",
          "data": {
            "text/html": [
              "<pre>| 5       | 0.0488281         | 0.712167                                 |</pre>"
            ],
            "text/plain": [
              "| 5       | 0.0488281         | 0.712167                                 |"
            ]
          },
          "metadata": {
            "tags": []
          }
        },
        {
          "output_type": "display_data",
          "data": {
            "text/html": [
              "<pre>| 6       | 0.0244141         | 1.15476                                  |</pre>"
            ],
            "text/plain": [
              "| 6       | 0.0244141         | 1.15476                                  |"
            ]
          },
          "metadata": {
            "tags": []
          }
        },
        {
          "output_type": "display_data",
          "data": {
            "text/html": [
              "<pre>+---------+-------------------+------------------------------------------+</pre>"
            ],
            "text/plain": [
              "+---------+-------------------+------------------------------------------+"
            ]
          },
          "metadata": {
            "tags": []
          }
        },
        {
          "output_type": "display_data",
          "data": {
            "text/html": [
              "<pre>| Final   | 0.0976562         | 0.35785                                  |</pre>"
            ],
            "text/plain": [
              "| Final   | 0.0976562         | 0.35785                                  |"
            ]
          },
          "metadata": {
            "tags": []
          }
        },
        {
          "output_type": "display_data",
          "data": {
            "text/html": [
              "<pre>+---------+-------------------+------------------------------------------+</pre>"
            ],
            "text/plain": [
              "+---------+-------------------+------------------------------------------+"
            ]
          },
          "metadata": {
            "tags": []
          }
        },
        {
          "output_type": "display_data",
          "data": {
            "text/html": [
              "<pre>Starting Optimization.</pre>"
            ],
            "text/plain": [
              "Starting Optimization."
            ]
          },
          "metadata": {
            "tags": []
          }
        },
        {
          "output_type": "display_data",
          "data": {
            "text/html": [
              "<pre>+---------+--------------+-------------------+-----------------------+-------------+</pre>"
            ],
            "text/plain": [
              "+---------+--------------+-------------------+-----------------------+-------------+"
            ]
          },
          "metadata": {
            "tags": []
          }
        },
        {
          "output_type": "display_data",
          "data": {
            "text/html": [
              "<pre>| Iter.   | Elapsed Time | Approx. Objective | Approx. Training RMSE | Step Size   |</pre>"
            ],
            "text/plain": [
              "| Iter.   | Elapsed Time | Approx. Objective | Approx. Training RMSE | Step Size   |"
            ]
          },
          "metadata": {
            "tags": []
          }
        },
        {
          "output_type": "display_data",
          "data": {
            "text/html": [
              "<pre>+---------+--------------+-------------------+-----------------------+-------------+</pre>"
            ],
            "text/plain": [
              "+---------+--------------+-------------------+-----------------------+-------------+"
            ]
          },
          "metadata": {
            "tags": []
          }
        },
        {
          "output_type": "display_data",
          "data": {
            "text/html": [
              "<pre>| Initial | 113us        | 2.12484           | 1.04101               |             |</pre>"
            ],
            "text/plain": [
              "| Initial | 113us        | 2.12484           | 1.04101               |             |"
            ]
          },
          "metadata": {
            "tags": []
          }
        },
        {
          "output_type": "display_data",
          "data": {
            "text/html": [
              "<pre>+---------+--------------+-------------------+-----------------------+-------------+</pre>"
            ],
            "text/plain": [
              "+---------+--------------+-------------------+-----------------------+-------------+"
            ]
          },
          "metadata": {
            "tags": []
          }
        },
        {
          "output_type": "display_data",
          "data": {
            "text/html": [
              "<pre>| 1       | 347.079ms    | 1.4293            | 0.979621              | 0.0976562   |</pre>"
            ],
            "text/plain": [
              "| 1       | 347.079ms    | 1.4293            | 0.979621              | 0.0976562   |"
            ]
          },
          "metadata": {
            "tags": []
          }
        },
        {
          "output_type": "display_data",
          "data": {
            "text/html": [
              "<pre>| 2       | 693.515ms    | 0.922181          | 0.795183              | 0.0976562   |</pre>"
            ],
            "text/plain": [
              "| 2       | 693.515ms    | 0.922181          | 0.795183              | 0.0976562   |"
            ]
          },
          "metadata": {
            "tags": []
          }
        },
        {
          "output_type": "display_data",
          "data": {
            "text/html": [
              "<pre>| 3       | 1.02s        | 0.733924          | 0.715672              | 0.0976562   |</pre>"
            ],
            "text/plain": [
              "| 3       | 1.02s        | 0.733924          | 0.715672              | 0.0976562   |"
            ]
          },
          "metadata": {
            "tags": []
          }
        },
        {
          "output_type": "display_data",
          "data": {
            "text/html": [
              "<pre>| 4       | 1.35s        | 0.61356           | 0.663899              | 0.0976562   |</pre>"
            ],
            "text/plain": [
              "| 4       | 1.35s        | 0.61356           | 0.663899              | 0.0976562   |"
            ]
          },
          "metadata": {
            "tags": []
          }
        },
        {
          "output_type": "display_data",
          "data": {
            "text/html": [
              "<pre>| 5       | 1.65s        | 0.535722          | 0.625817              | 0.0976562   |</pre>"
            ],
            "text/plain": [
              "| 5       | 1.65s        | 0.535722          | 0.625817              | 0.0976562   |"
            ]
          },
          "metadata": {
            "tags": []
          }
        },
        {
          "output_type": "display_data",
          "data": {
            "text/html": [
              "<pre>| 10      | 3.16s        | 0.367413          | 0.524193              | 0.0976562   |</pre>"
            ],
            "text/plain": [
              "| 10      | 3.16s        | 0.367413          | 0.524193              | 0.0976562   |"
            ]
          },
          "metadata": {
            "tags": []
          }
        },
        {
          "output_type": "display_data",
          "data": {
            "text/html": [
              "<pre>| 20      | 5.90s        | 0.266111          | 0.448103              | 0.0976562   |</pre>"
            ],
            "text/plain": [
              "| 20      | 5.90s        | 0.266111          | 0.448103              | 0.0976562   |"
            ]
          },
          "metadata": {
            "tags": []
          }
        },
        {
          "output_type": "display_data",
          "data": {
            "text/html": [
              "<pre>| 25      | 7.21s        | 0.24199           | 0.428623              | 0.0976562   |</pre>"
            ],
            "text/plain": [
              "| 25      | 7.21s        | 0.24199           | 0.428623              | 0.0976562   |"
            ]
          },
          "metadata": {
            "tags": []
          }
        },
        {
          "output_type": "display_data",
          "data": {
            "text/html": [
              "<pre>+---------+--------------+-------------------+-----------------------+-------------+</pre>"
            ],
            "text/plain": [
              "+---------+--------------+-------------------+-----------------------+-------------+"
            ]
          },
          "metadata": {
            "tags": []
          }
        },
        {
          "output_type": "display_data",
          "data": {
            "text/html": [
              "<pre>Optimization Complete: Maximum number of passes through the data reached.</pre>"
            ],
            "text/plain": [
              "Optimization Complete: Maximum number of passes through the data reached."
            ]
          },
          "metadata": {
            "tags": []
          }
        },
        {
          "output_type": "display_data",
          "data": {
            "text/html": [
              "<pre>Computing final objective value and training RMSE.</pre>"
            ],
            "text/plain": [
              "Computing final objective value and training RMSE."
            ]
          },
          "metadata": {
            "tags": []
          }
        },
        {
          "output_type": "display_data",
          "data": {
            "text/html": [
              "<pre>       Final objective value: 0.221599</pre>"
            ],
            "text/plain": [
              "       Final objective value: 0.221599"
            ]
          },
          "metadata": {
            "tags": []
          }
        },
        {
          "output_type": "display_data",
          "data": {
            "text/html": [
              "<pre>       Final training RMSE: 0.402429</pre>"
            ],
            "text/plain": [
              "       Final training RMSE: 0.402429"
            ]
          },
          "metadata": {
            "tags": []
          }
        }
      ]
    },
    {
      "cell_type": "code",
      "metadata": {
        "colab": {
          "base_uri": "https://localhost:8080/"
        },
        "id": "bM4TalvmmDdL",
        "outputId": "5304d78d-e5d1-4d10-fbf0-82a446d60611"
      },
      "source": [
        "# Show the model parameters\n",
        "model"
      ],
      "execution_count": 104,
      "outputs": [
        {
          "output_type": "execute_result",
          "data": {
            "text/plain": [
              "Class                            : RankingFactorizationRecommender\n",
              "\n",
              "Schema\n",
              "------\n",
              "User ID                          : userId\n",
              "Item ID                          : title\n",
              "Target                           : rating\n",
              "Additional observation features  : 2\n",
              "User side features               : []\n",
              "Item side features               : []\n",
              "\n",
              "Statistics\n",
              "----------\n",
              "Number of observations           : 97976\n",
              "Number of users                  : 610\n",
              "Number of items                  : 9660\n",
              "\n",
              "Training summary\n",
              "----------------\n",
              "Training time                    : 8.9474\n",
              "\n",
              "Model Parameters\n",
              "----------------\n",
              "Model class                      : RankingFactorizationRecommender\n",
              "num_factors                      : 32\n",
              "binary_target                    : 0\n",
              "side_data_factorization          : 1\n",
              "solver                           : auto\n",
              "nmf                              : 0\n",
              "max_iterations                   : 25\n",
              "\n",
              "Regularization Settings\n",
              "-----------------------\n",
              "regularization                   : 0.0\n",
              "regularization_type              : normal\n",
              "linear_regularization            : 0.0\n",
              "ranking_regularization           : 0.25\n",
              "unobserved_rating_value          : -1.7976931348623157e+308\n",
              "num_sampled_negative_examples    : 4\n",
              "ials_confidence_scaling_type     : auto\n",
              "ials_confidence_scaling_factor   : 1\n",
              "\n",
              "Optimization Settings\n",
              "---------------------\n",
              "init_random_sigma                : 0.01\n",
              "sgd_convergence_interval         : 4\n",
              "sgd_convergence_threshold        : 0.0\n",
              "sgd_max_trial_iterations         : 5\n",
              "sgd_sampling_block_size          : 131072\n",
              "sgd_step_adjustment_interval     : 4\n",
              "sgd_step_size                    : 0.0\n",
              "sgd_trial_sample_minimum_size    : 10000\n",
              "sgd_trial_sample_proportion      : 0.125\n",
              "step_size_decrease_rate          : 0.75\n",
              "additional_iterations_if_unhealthy : 5\n",
              "adagrad_momentum_weighting       : 0.9\n",
              "num_tempering_iterations         : 4\n",
              "tempering_regularization_start_value : 0.0\n",
              "track_exact_loss                 : 0"
            ]
          },
          "metadata": {
            "tags": []
          },
          "execution_count": 104
        }
      ]
    },
    {
      "cell_type": "markdown",
      "metadata": {
        "id": "w1XykKBB7-72"
      },
      "source": [
        "Using the provided data, Turi Create has chosen a Ranking Factorization Recommender model which learns latent factors for each user and item and uses them to rank recommended items according to the likelihood of observing those (user, item) pairs. This model is commonly desired when performing collaborative filtering for implicit feedback datasets or datasets with explicit ratings for which ranking prediction is desired"
      ]
    },
    {
      "cell_type": "markdown",
      "metadata": {
        "id": "eIyd_pHtCQE-"
      },
      "source": [
        "## Evaluating the model\n",
        "We can evaluate our train model by calling `model.evaluate` on the validation set:"
      ]
    },
    {
      "cell_type": "code",
      "metadata": {
        "colab": {
          "base_uri": "https://localhost:8080/"
        },
        "id": "kUtBkviNCW5V",
        "outputId": "1b437277-17ff-4686-f9dd-46a2c8221d55"
      },
      "source": [
        "# Evaluate the model on validation set\n",
        "model.evaluate(val_data)"
      ],
      "execution_count": 120,
      "outputs": [
        {
          "output_type": "stream",
          "text": [
            "\n",
            "Precision and recall summary statistics by cutoff\n",
            "+--------+---------------------+-----------------------+\n",
            "| cutoff |    mean_precision   |      mean_recall      |\n",
            "+--------+---------------------+-----------------------+\n",
            "|   1    |         0.06        | 0.0028126716953648027 |\n",
            "|   2    | 0.08000000000000002 |  0.00760916960925404  |\n",
            "|   3    |         0.09        |  0.011484332611459045 |\n",
            "|   4    |        0.085        |  0.013928684646944085 |\n",
            "|   5    |         0.08        |  0.01853489582706831  |\n",
            "|   6    | 0.07166666666666667 |  0.02049502043766021  |\n",
            "|   7    | 0.06857142857142856 |  0.023132557020998767 |\n",
            "|   8    |        0.0675       |  0.025295098401187214 |\n",
            "|   9    | 0.06111111111111112 |  0.02536312561207156  |\n",
            "|   10   | 0.05900000000000001 |  0.028217849319736445 |\n",
            "+--------+---------------------+-----------------------+\n",
            "[10 rows x 3 columns]\n",
            "\n",
            "\n",
            "Overall RMSE: 1.1719939366833003\n",
            "\n",
            "Per User RMSE (best)\n",
            "+--------+---------------------+-------+\n",
            "| userId |         rmse        | count |\n",
            "+--------+---------------------+-------+\n",
            "|  407   | 0.24478032773091973 |   1   |\n",
            "+--------+---------------------+-------+\n",
            "[1 rows x 3 columns]\n",
            "\n",
            "\n",
            "Per User RMSE (worst)\n",
            "+--------+-------------------+-------+\n",
            "| userId |        rmse       | count |\n",
            "+--------+-------------------+-------+\n",
            "|  335   | 2.765744988734575 |   2   |\n",
            "+--------+-------------------+-------+\n",
            "[1 rows x 3 columns]\n",
            "\n",
            "\n",
            "Per Item RMSE (best)\n",
            "+-------------------------+------------------------+-------+\n",
            "|          title          |          rmse          | count |\n",
            "+-------------------------+------------------------+-------+\n",
            "| Flintstones, The (1994) | 0.00017916910137616426 |   1   |\n",
            "+-------------------------+------------------------+-------+\n",
            "[1 rows x 3 columns]\n",
            "\n",
            "\n",
            "Per Item RMSE (worst)\n",
            "+-------------------+-------------------+-------+\n",
            "|       title       |        rmse       | count |\n",
            "+-------------------+-------------------+-------+\n",
            "| Hard Candy (2005) | 5.180175935688194 |   1   |\n",
            "+-------------------+-------------------+-------+\n",
            "[1 rows x 3 columns]\n",
            "\n"
          ],
          "name": "stdout"
        },
        {
          "output_type": "execute_result",
          "data": {
            "text/plain": [
              "{'precision_recall_by_user': Columns:\n",
              " \tuserId\tint\n",
              " \tcutoff\tint\n",
              " \tprecision\tfloat\n",
              " \trecall\tfloat\n",
              " \tcount\tint\n",
              " \n",
              " Rows: 1800\n",
              " \n",
              " Data:\n",
              " +--------+--------+-----------+----------------------+-------+\n",
              " | userId | cutoff | precision |        recall        | count |\n",
              " +--------+--------+-----------+----------------------+-------+\n",
              " |   1    |   1    |    0.0    |         0.0          |   44  |\n",
              " |   1    |   2    |    0.0    |         0.0          |   44  |\n",
              " |   1    |   3    |    0.0    |         0.0          |   44  |\n",
              " |   1    |   4    |    0.0    |         0.0          |   44  |\n",
              " |   1    |   5    |    0.0    |         0.0          |   44  |\n",
              " |   1    |   6    |    0.0    |         0.0          |   44  |\n",
              " |   1    |   7    |    0.0    |         0.0          |   44  |\n",
              " |   1    |   8    |    0.0    |         0.0          |   44  |\n",
              " |   1    |   9    |    0.0    |         0.0          |   44  |\n",
              " |   1    |   10   |    0.1    | 0.022727272727272728 |   44  |\n",
              " +--------+--------+-----------+----------------------+-------+\n",
              " [1800 rows x 5 columns]\n",
              " Note: Only the head of the SFrame is printed.\n",
              " You can use print_rows(num_rows=m, num_columns=n) to print more rows and columns.,\n",
              " 'precision_recall_overall': Columns:\n",
              " \tcutoff\tint\n",
              " \tprecision\tfloat\n",
              " \trecall\tfloat\n",
              " \n",
              " Rows: 18\n",
              " \n",
              " Data:\n",
              " +--------+----------------------+-----------------------+\n",
              " | cutoff |      precision       |         recall        |\n",
              " +--------+----------------------+-----------------------+\n",
              " |   1    |         0.06         | 0.0028126716953648027 |\n",
              " |   2    |         0.08         |  0.007609169609254039 |\n",
              " |   3    | 0.09000000000000002  |  0.011484332611459045 |\n",
              " |   4    |        0.085         |  0.013928684646944085 |\n",
              " |   5    | 0.08000000000000002  |  0.018534895827068312 |\n",
              " |   6    | 0.07166666666666667  |  0.020495020437660213 |\n",
              " |   7    | 0.06857142857142857  |  0.023132557020998767 |\n",
              " |   8    | 0.06749999999999999  |  0.025295098401187207 |\n",
              " |   9    | 0.06111111111111111  |  0.02536312561207156  |\n",
              " |   10   | 0.059000000000000004 |  0.028217849319736442 |\n",
              " +--------+----------------------+-----------------------+\n",
              " [18 rows x 3 columns]\n",
              " Note: Only the head of the SFrame is printed.\n",
              " You can use print_rows(num_rows=m, num_columns=n) to print more rows and columns.,\n",
              " 'rmse_by_item': Columns:\n",
              " \ttitle\tstr\n",
              " \trmse\tfloat\n",
              " \tcount\tint\n",
              " \n",
              " Rows: 1639\n",
              " \n",
              " Data:\n",
              " +-------------------------------+---------------------+-------+\n",
              " |             title             |         rmse        | count |\n",
              " +-------------------------------+---------------------+-------+\n",
              " | Bill & Ted's Excellent Adv... | 0.33918777219022234 |   1   |\n",
              " |        Sneakers (1992)        | 0.48972022709698004 |   1   |\n",
              " |  Boot, Das (Boat, The) (1981) |  0.5638052607943074 |   1   |\n",
              " | Lord of the Rings: The Ret... |   0.59568485664108  |   4   |\n",
              " | Bedknobs and Broomsticks (... |  1.835812940016205  |   1   |\n",
              " | Encounters at the End of t... | 0.15719250608790958 |   1   |\n",
              " | Much Ado About Nothing (1993) |  0.9930314768807703 |   2   |\n",
              " |        Mr. 3000 (2004)        |  0.2112574034545891 |   1   |\n",
              " |          X-Men (2000)         |  1.3886089708385194 |   4   |\n",
              " |       Lake Placid (1999)      |  0.9289445520655564 |   1   |\n",
              " +-------------------------------+---------------------+-------+\n",
              " [1639 rows x 3 columns]\n",
              " Note: Only the head of the SFrame is printed.\n",
              " You can use print_rows(num_rows=m, num_columns=n) to print more rows and columns.,\n",
              " 'rmse_by_user': Columns:\n",
              " \tuserId\tint\n",
              " \trmse\tfloat\n",
              " \tcount\tint\n",
              " \n",
              " Rows: 100\n",
              " \n",
              " Data:\n",
              " +--------+--------------------+-------+\n",
              " | userId |        rmse        | count |\n",
              " +--------+--------------------+-------+\n",
              " |  118   | 1.128654240766678  |   3   |\n",
              " |  567   | 1.7148409638208493 |   74  |\n",
              " |  435   | 1.0664231229043382 |   7   |\n",
              " |  537   | 1.4266476216403856 |   9   |\n",
              " |  257   | 2.0785983750677635 |   6   |\n",
              " |  310   | 1.723218223603269  |   10  |\n",
              " |   13   | 1.1209445309300572 |   7   |\n",
              " |   14   | 1.5502365371352376 |   8   |\n",
              " |  162   | 0.9514086414032247 |   6   |\n",
              " |  462   | 1.5365442253635535 |   92  |\n",
              " +--------+--------------------+-------+\n",
              " [100 rows x 3 columns]\n",
              " Note: Only the head of the SFrame is printed.\n",
              " You can use print_rows(num_rows=m, num_columns=n) to print more rows and columns.,\n",
              " 'rmse_overall': 1.1719939366833003}"
            ]
          },
          "metadata": {
            "tags": []
          },
          "execution_count": 120
        }
      ]
    },
    {
      "cell_type": "markdown",
      "metadata": {
        "id": "JS2u9_0nDA3A"
      },
      "source": [
        "There are two metrics that are used in evaluating the model: RMSE and precision-recall. RMSE measures how well the model predicts the score of the user, while precision-recall measures how well the `model.recommend()` function recommends items that the user also chooses"
      ]
    },
    {
      "cell_type": "markdown",
      "metadata": {
        "id": "pusk9wnX8jnL"
      },
      "source": [
        "## Making recommendations\n",
        "\n",
        "Finally, we can use our trained model to make recommendations. We can use the `model.recommend(k)` function to get the top k movie recommendations for each user. Let's get the top 5 movie recommendations for each user:"
      ]
    },
    {
      "cell_type": "code",
      "metadata": {
        "id": "1yL209EcmJ_Q"
      },
      "source": [
        "# Get the top 5 movie recommendations for each user\n",
        "results = model.recommend(k=5)"
      ],
      "execution_count": 107,
      "outputs": []
    },
    {
      "cell_type": "markdown",
      "metadata": {
        "id": "TKr3YpzF9jLH"
      },
      "source": [
        "The `model.recommend()` function gives the recommendations\n",
        "\n",
        "```\n",
        "# This is formatted as code\n",
        "```\n",
        "\n",
        " for all users and saves the result into an SFrame. We can print the first 25 rows of the SFrame using `SFrame.print_rows()`:"
      ]
    },
    {
      "cell_type": "code",
      "metadata": {
        "colab": {
          "base_uri": "https://localhost:8080/"
        },
        "id": "uULp_ob49F82",
        "outputId": "5d5850f4-318b-4c87-c401-07da655d2950"
      },
      "source": [
        "# Print the first 25 rows\n",
        "results.print_rows(25)"
      ],
      "execution_count": 110,
      "outputs": [
        {
          "output_type": "stream",
          "text": [
            "+--------+-------------------------------+--------------------+------+\n",
            "| userId |             title             |       score        | rank |\n",
            "+--------+-------------------------------+--------------------+------+\n",
            "|   1    | Lord of the Rings: The Fel... | 5.212723076376367  |  1   |\n",
            "|   1    | Shawshank Redemption, The ... | 5.177412867578912  |  2   |\n",
            "|   1    | Lord of the Rings: The Ret... | 5.087076604399133  |  3   |\n",
            "|   1    |        Magnolia (1999)        | 5.065529013085413  |  4   |\n",
            "|   1    | Good, the Bad and the Ugly... | 5.018297970327783  |  5   |\n",
            "|   2    | Harry Potter and the Chamb... | 4.531741276416231  |  1   |\n",
            "|   2    |  Sleepless in Seattle (1993)  | 4.5262871161431555 |  2   |\n",
            "|   2    |  Bourne Ultimatum, The (2007) | 4.464553972739029  |  3   |\n",
            "|   2    | Spanish Apartment, The (L'... | 4.4594226777881865 |  4   |\n",
            "|   2    | Monty Python's Life of Bri... | 4.395771332117963  |  5   |\n",
            "|   3    |   Mad Max: Fury Road (2015)   | 4.836166933211732  |  1   |\n",
            "|   3    |  Escape from New York (1981)  | 4.551553332279671  |  2   |\n",
            "|   3    |     Raising Arizona (1987)    |  4.51956506821816  |  3   |\n",
            "|   3    |      Animal House (1978)      | 4.450995706054616  |  4   |\n",
            "|   3    |       Iron Man 3 (2013)       | 4.300438638809371  |  5   |\n",
            "|   4    |       Roger & Me (1989)       | 5.9862018972963575 |  1   |\n",
            "|   4    | Lord of the Rings: The Fel... | 5.954387679728914  |  2   |\n",
            "|   4    | Lord of the Rings: The Ret... | 5.851977482470918  |  3   |\n",
            "|   4    |        Coneheads (1993)       | 5.709284648332048  |  4   |\n",
            "|   4    | Lord of the Rings: The Two... | 5.576601639422822  |  5   |\n",
            "|   5    |      Graduate, The (1967)     | 4.5841794237822775 |  1   |\n",
            "|   5    | Monty Python's Life of Bri... | 4.379108734461713  |  2   |\n",
            "|   5    |  Bullets Over Broadway (1994) | 4.316690482232023  |  3   |\n",
            "|   5    | O Brother, Where Art Thou?... |  4.29066251221602  |  4   |\n",
            "|   5    | Take the Money and Run (1969) | 4.237545609507013  |  5   |\n",
            "+--------+-------------------------------+--------------------+------+\n",
            "[3050 rows x 4 columns]\n",
            "\n"
          ],
          "name": "stdout"
        }
      ]
    },
    {
      "cell_type": "markdown",
      "metadata": {
        "id": "HE5cnJoP-MM7"
      },
      "source": [
        "We can also select only a specific subset of the users and get their recommendations:"
      ]
    },
    {
      "cell_type": "code",
      "metadata": {
        "colab": {
          "base_uri": "https://localhost:8080/"
        },
        "id": "Lp3otD8o-Lr8",
        "outputId": "a93e98d1-a0de-4581-f137-14caa5dcf3cd"
      },
      "source": [
        "# Recommend on a subset of users\n",
        "res = model.recommend(users=[10, 100, 500], k=5)\n",
        "res.print_rows(15)"
      ],
      "execution_count": 117,
      "outputs": [
        {
          "output_type": "stream",
          "text": [
            "+--------+-------------------------------+--------------------+------+\n",
            "| userId |             title             |       score        | rank |\n",
            "+--------+-------------------------------+--------------------+------+\n",
            "|   10   |    Ocean's Thirteen (2007)    | 5.298210129174638  |  1   |\n",
            "|   10   | Harry Potter and the Chamb... | 5.098013356360841  |  2   |\n",
            "|   10   |   Look Who's Talking (1989)   | 5.085982665452409  |  3   |\n",
            "|   10   | Mystery Science Theater 30... | 4.890643760594774  |  4   |\n",
            "|   10   |      Fugitive, The (1993)     | 4.887112423810411  |  5   |\n",
            "|  100   | Shawshank Redemption, The ... | 4.6426611394018416 |  1   |\n",
            "|  100   | How to Lose a Guy in 10 Da... |  4.52993492785399  |  2   |\n",
            "|  100   | Clear and Present Danger (... | 4.4457693882614855 |  3   |\n",
            "|  100   |    Bringing Up Baby (1938)    | 4.351187214288164  |  4   |\n",
            "|  100   |      Fugitive, The (1993)     | 4.275397583875108  |  5   |\n",
            "|  500   | House of Flying Daggers (S... | 4.726014643940378  |  1   |\n",
            "|  500   | Talented Mr. Ripley, The (... | 4.632987834546018  |  2   |\n",
            "|  500   |     Ocean's Eleven (2001)     | 4.589675262603212  |  3   |\n",
            "|  500   |  Bowling for Columbine (2002) | 4.551486149463106  |  4   |\n",
            "|  500   |         Munich (2005)         | 4.452804796430517  |  5   |\n",
            "+--------+-------------------------------+--------------------+------+\n",
            "[15 rows x 4 columns]\n",
            "\n"
          ],
          "name": "stdout"
        }
      ]
    },
    {
      "cell_type": "markdown",
      "metadata": {
        "id": "f7jlZld8_1Qw"
      },
      "source": [
        "The `model.recommend()` function also works seamlessly with new users (usually known as the \"cold-start\" problem).  If the model has never seen the user, then it defaults to recommending popular items:"
      ]
    },
    {
      "cell_type": "code",
      "metadata": {
        "colab": {
          "base_uri": "https://localhost:8080/",
          "height": 205
        },
        "id": "LSLvh_J2AF8H",
        "outputId": "b1b27db4-4ab2-4bcd-e027-cd66bd12b025"
      },
      "source": [
        "# Recommend for new user\n",
        "model.recommend(users=[1000], k=5)"
      ],
      "execution_count": 119,
      "outputs": [
        {
          "output_type": "execute_result",
          "data": {
            "text/html": [
              "<div style=\"max-height:1000px;max-width:1500px;overflow:auto;\"><table frame=\"box\" rules=\"cols\">\n",
              "    <tr>\n",
              "        <th style=\"padding-left: 1em; padding-right: 1em; text-align: center\">userId</th>\n",
              "        <th style=\"padding-left: 1em; padding-right: 1em; text-align: center\">title</th>\n",
              "        <th style=\"padding-left: 1em; padding-right: 1em; text-align: center\">score</th>\n",
              "        <th style=\"padding-left: 1em; padding-right: 1em; text-align: center\">rank</th>\n",
              "    </tr>\n",
              "    <tr>\n",
              "        <td style=\"padding-left: 1em; padding-right: 1em; text-align: center; vertical-align: top\">1000</td>\n",
              "        <td style=\"padding-left: 1em; padding-right: 1em; text-align: center; vertical-align: top\">Shawshank Redemption, The<br>(1994) ...</td>\n",
              "        <td style=\"padding-left: 1em; padding-right: 1em; text-align: center; vertical-align: top\">4.160681769284654</td>\n",
              "        <td style=\"padding-left: 1em; padding-right: 1em; text-align: center; vertical-align: top\">1</td>\n",
              "    </tr>\n",
              "    <tr>\n",
              "        <td style=\"padding-left: 1em; padding-right: 1em; text-align: center; vertical-align: top\">1000</td>\n",
              "        <td style=\"padding-left: 1em; padding-right: 1em; text-align: center; vertical-align: top\">Silence of the Lambs, The<br>(1991) ...</td>\n",
              "        <td style=\"padding-left: 1em; padding-right: 1em; text-align: center; vertical-align: top\">4.130045041474748</td>\n",
              "        <td style=\"padding-left: 1em; padding-right: 1em; text-align: center; vertical-align: top\">2</td>\n",
              "    </tr>\n",
              "    <tr>\n",
              "        <td style=\"padding-left: 1em; padding-right: 1em; text-align: center; vertical-align: top\">1000</td>\n",
              "        <td style=\"padding-left: 1em; padding-right: 1em; text-align: center; vertical-align: top\">Fight Club (1999)</td>\n",
              "        <td style=\"padding-left: 1em; padding-right: 1em; text-align: center; vertical-align: top\">4.127069398793626</td>\n",
              "        <td style=\"padding-left: 1em; padding-right: 1em; text-align: center; vertical-align: top\">3</td>\n",
              "    </tr>\n",
              "    <tr>\n",
              "        <td style=\"padding-left: 1em; padding-right: 1em; text-align: center; vertical-align: top\">1000</td>\n",
              "        <td style=\"padding-left: 1em; padding-right: 1em; text-align: center; vertical-align: top\">Star Wars: Episode IV - A<br>New Hope (1977) ...</td>\n",
              "        <td style=\"padding-left: 1em; padding-right: 1em; text-align: center; vertical-align: top\">4.094726905259538</td>\n",
              "        <td style=\"padding-left: 1em; padding-right: 1em; text-align: center; vertical-align: top\">4</td>\n",
              "    </tr>\n",
              "    <tr>\n",
              "        <td style=\"padding-left: 1em; padding-right: 1em; text-align: center; vertical-align: top\">1000</td>\n",
              "        <td style=\"padding-left: 1em; padding-right: 1em; text-align: center; vertical-align: top\">Jurassic Park (1993)</td>\n",
              "        <td style=\"padding-left: 1em; padding-right: 1em; text-align: center; vertical-align: top\">4.063138410481859</td>\n",
              "        <td style=\"padding-left: 1em; padding-right: 1em; text-align: center; vertical-align: top\">5</td>\n",
              "    </tr>\n",
              "</table>\n",
              "[5 rows x 4 columns]<br/>\n",
              "</div>"
            ],
            "text/plain": [
              "Columns:\n",
              "\tuserId\tint\n",
              "\ttitle\tstr\n",
              "\tscore\tfloat\n",
              "\trank\tint\n",
              "\n",
              "Rows: 5\n",
              "\n",
              "Data:\n",
              "+--------+-------------------------------+-------------------+------+\n",
              "| userId |             title             |       score       | rank |\n",
              "+--------+-------------------------------+-------------------+------+\n",
              "|  1000  | Shawshank Redemption, The ... | 4.160681769284654 |  1   |\n",
              "|  1000  | Silence of the Lambs, The ... | 4.130045041474748 |  2   |\n",
              "|  1000  |       Fight Club (1999)       | 4.127069398793626 |  3   |\n",
              "|  1000  | Star Wars: Episode IV - A ... | 4.094726905259538 |  4   |\n",
              "|  1000  |      Jurassic Park (1993)     | 4.063138410481859 |  5   |\n",
              "+--------+-------------------------------+-------------------+------+\n",
              "[5 rows x 4 columns]"
            ]
          },
          "metadata": {
            "tags": []
          },
          "execution_count": 119
        }
      ]
    },
    {
      "cell_type": "markdown",
      "metadata": {
        "id": "WGj4Q1i-AgNK"
      },
      "source": [
        "## Saving the model\n",
        "Lastly, we can save the model for later use using `model.save()`:"
      ]
    },
    {
      "cell_type": "code",
      "metadata": {
        "id": "hb6YAQDnwP4E"
      },
      "source": [
        "# Save the model\n",
        "model.save(\"movie_recommender.model\")"
      ],
      "execution_count": 65,
      "outputs": []
    },
    {
      "cell_type": "markdown",
      "metadata": {
        "id": "SiA4hK6GB12g"
      },
      "source": [
        "Like other models in Turi Create, we can load the model back later using `tc.load_model()`"
      ]
    }
  ]
}